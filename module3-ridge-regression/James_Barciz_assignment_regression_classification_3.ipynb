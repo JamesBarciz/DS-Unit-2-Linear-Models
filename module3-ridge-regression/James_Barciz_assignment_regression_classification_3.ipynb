{
  "nbformat": 4,
  "nbformat_minor": 0,
  "metadata": {
    "colab": {
      "name": "James Barciz - assignment_regression_classification_3.ipynb",
      "provenance": [],
      "collapsed_sections": [],
      "include_colab_link": true
    },
    "kernelspec": {
      "display_name": "Python 3",
      "language": "python",
      "name": "python3"
    },
    "language_info": {
      "codemirror_mode": {
        "name": "ipython",
        "version": 3
      },
      "file_extension": ".py",
      "mimetype": "text/x-python",
      "name": "python",
      "nbconvert_exporter": "python",
      "pygments_lexer": "ipython3",
      "version": "3.7.3"
    }
  },
  "cells": [
    {
      "cell_type": "markdown",
      "metadata": {
        "id": "view-in-github",
        "colab_type": "text"
      },
      "source": [
        "<a href=\"https://colab.research.google.com/github/JamesBarciz/DS-Unit-2-Linear-Models/blob/master/module3-ridge-regression/James_Barciz_assignment_regression_classification_3.ipynb\" target=\"_parent\"><img src=\"https://colab.research.google.com/assets/colab-badge.svg\" alt=\"Open In Colab\"/></a>"
      ]
    },
    {
      "cell_type": "markdown",
      "metadata": {
        "id": "p4f24QqSbCf5",
        "colab_type": "text"
      },
      "source": [
        "Lambda School Data Science\n",
        "\n",
        "*Unit 2, Sprint 1, Module 3*\n",
        "\n",
        "---"
      ]
    },
    {
      "cell_type": "markdown",
      "metadata": {
        "colab_type": "text",
        "id": "7IXUfiQ2UKj6"
      },
      "source": [
        "# Ridge Regression\n",
        "\n",
        "## Assignment\n",
        "\n",
        "We're going back to our other **New York City** real estate dataset. Instead of predicting apartment rents, you'll predict property sales prices.\n",
        "\n",
        "But not just for condos in Tribeca...\n",
        "\n",
        "Instead, predict property sales prices for **One Family Dwellings** (`BUILDING_CLASS_CATEGORY` == `'01 ONE FAMILY DWELLINGS'`). \n",
        "\n",
        "Use a subset of the data where the **sale price was more than \\\\$100 thousand and less than $2 million.** \n",
        "\n",
        "The [NYC Department of Finance](https://www1.nyc.gov/site/finance/taxes/property-rolling-sales-data.page) has a glossary of property sales terms and NYC Building Class Code Descriptions. The data comes from the [NYC OpenData](https://data.cityofnewyork.us/browse?q=NYC%20calendar%20sales) portal.\n",
        "\n",
        "- [ ] Do train/test split. Use data from January — March 2019 to train. Use data from April 2019 to test.\n",
        "- [ ] Do one-hot encoding of categorical features.\n",
        "- [ ] Do feature selection with `SelectKBest`.\n",
        "- [ ] Do [feature scaling](https://scikit-learn.org/stable/modules/preprocessing.html).\n",
        "- [ ] Fit a ridge regression model with multiple features.\n",
        "- [ ] Get mean absolute error for the test set.\n",
        "- [ ] As always, commit your notebook to your fork of the GitHub repo.\n",
        "\n",
        "\n",
        "## Stretch Goals\n",
        "- [ ] Add your own stretch goal(s) !\n",
        "- [ ] Instead of `Ridge`, try `LinearRegression`. Depending on how many features you select, your errors will probably blow up! 💥\n",
        "- [ ] Instead of `Ridge`, try [`RidgeCV`](https://scikit-learn.org/stable/modules/generated/sklearn.linear_model.RidgeCV.html).\n",
        "- [ ] Learn more about feature selection:\n",
        "    - [\"Permutation importance\"](https://www.kaggle.com/dansbecker/permutation-importance)\n",
        "    - [scikit-learn's User Guide for Feature Selection](https://scikit-learn.org/stable/modules/feature_selection.html)\n",
        "    - [mlxtend](http://rasbt.github.io/mlxtend/) library\n",
        "    - scikit-learn-contrib libraries: [boruta_py](https://github.com/scikit-learn-contrib/boruta_py) & [stability-selection](https://github.com/scikit-learn-contrib/stability-selection)\n",
        "    - [_Feature Engineering and Selection_](http://www.feat.engineering/) by Kuhn & Johnson.\n",
        "- [ ] Try [statsmodels](https://www.statsmodels.org/stable/index.html) if you’re interested in more inferential statistical approach to linear regression and feature selection, looking at p values and 95% confidence intervals for the coefficients.\n",
        "- [ ] Read [_An Introduction to Statistical Learning_](http://faculty.marshall.usc.edu/gareth-james/ISL/ISLR%20Seventh%20Printing.pdf), Chapters 1-3, for more math & theory, but in an accessible, readable way.\n",
        "- [ ] Try [scikit-learn pipelines](https://scikit-learn.org/stable/modules/compose.html)."
      ]
    },
    {
      "cell_type": "code",
      "metadata": {
        "colab_type": "code",
        "id": "o9eSnDYhUGD7",
        "colab": {}
      },
      "source": [
        "%%capture\n",
        "import sys\n",
        "\n",
        "# If you're on Colab:\n",
        "if 'google.colab' in sys.modules:\n",
        "    DATA_PATH = 'https://raw.githubusercontent.com/LambdaSchool/DS-Unit-2-Applied-Modeling/master/data/'\n",
        "    !pip install category_encoders==2.*\n",
        "\n",
        "# If you're working locally:\n",
        "else:\n",
        "    DATA_PATH = '../data/'\n",
        "    \n",
        "# Ignore this Numpy warning when using Plotly Express:\n",
        "# FutureWarning: Method .ptp is deprecated and will be removed in a future version. Use numpy.ptp instead.\n",
        "import warnings\n",
        "warnings.filterwarnings(action='ignore', category=FutureWarning, module='numpy')"
      ],
      "execution_count": 0,
      "outputs": []
    },
    {
      "cell_type": "code",
      "metadata": {
        "colab_type": "code",
        "id": "QJBD4ruICm1m",
        "colab": {}
      },
      "source": [
        "import pandas as pd\n",
        "import pandas_profiling\n",
        "\n",
        "# Read New York City property sales data\n",
        "df = pd.read_csv(DATA_PATH+'condos/NYC_Citywide_Rolling_Calendar_Sales.csv')\n",
        "\n",
        "# Change column names: replace spaces with underscores\n",
        "df.columns = [col.replace(' ', '_') for col in df]\n",
        "\n",
        "# SALE_PRICE was read as strings.\n",
        "# Remove symbols, convert to integer\n",
        "df['SALE_PRICE'] = (\n",
        "    df['SALE_PRICE']\n",
        "    .str.replace('$','')\n",
        "    .str.replace('-','')\n",
        "    .str.replace(',','')\n",
        "    .astype(int)\n",
        ")"
      ],
      "execution_count": 0,
      "outputs": []
    },
    {
      "cell_type": "code",
      "metadata": {
        "id": "DwI-O43mbCgB",
        "colab_type": "code",
        "colab": {}
      },
      "source": [
        "# BOROUGH is a numeric column, but arguably should be a categorical feature,\n",
        "# so convert it from a number to a string\n",
        "df['BOROUGH'] = df['BOROUGH'].astype(str)"
      ],
      "execution_count": 0,
      "outputs": []
    },
    {
      "cell_type": "code",
      "metadata": {
        "id": "W44uWcFybCgE",
        "colab_type": "code",
        "colab": {}
      },
      "source": [
        "# Reduce cardinality for NEIGHBORHOOD feature\n",
        "\n",
        "# Get a list of the top 10 neighborhoods\n",
        "top10 = df['NEIGHBORHOOD'].value_counts()[:10].index\n",
        "\n",
        "# At locations where the neighborhood is NOT in the top 10, \n",
        "# replace the neighborhood with 'OTHER'\n",
        "df.loc[~df['NEIGHBORHOOD'].isin(top10), 'NEIGHBORHOOD'] = 'OTHER'"
      ],
      "execution_count": 0,
      "outputs": []
    },
    {
      "cell_type": "code",
      "metadata": {
        "id": "QBnrjQgsfQNd",
        "colab_type": "code",
        "colab": {}
      },
      "source": [
        "df = df[(df['SALE_PRICE'] >= 100000) & (df['SALE_PRICE'] <=2000000)]"
      ],
      "execution_count": 0,
      "outputs": []
    },
    {
      "cell_type": "code",
      "metadata": {
        "id": "dHVLnZ0SbCgF",
        "colab_type": "code",
        "outputId": "7cf61b3b-8f57-45b6-c430-4c3e402df3cd",
        "colab": {
          "base_uri": "https://localhost:8080/",
          "height": 230
        }
      },
      "source": [
        "df['SALE_DATE']"
      ],
      "execution_count": 7,
      "outputs": [
        {
          "output_type": "execute_result",
          "data": {
            "text/plain": [
              "44       01/01/2019\n",
              "61       01/01/2019\n",
              "65       01/02/2019\n",
              "66       01/02/2019\n",
              "67       01/02/2019\n",
              "            ...    \n",
              "23035    04/30/2019\n",
              "23036    04/30/2019\n",
              "23037    04/30/2019\n",
              "23038    04/30/2019\n",
              "23039    04/30/2019\n",
              "Name: SALE_DATE, Length: 13471, dtype: object"
            ]
          },
          "metadata": {
            "tags": []
          },
          "execution_count": 7
        }
      ]
    },
    {
      "cell_type": "code",
      "metadata": {
        "id": "XXLKqfP7euaP",
        "colab_type": "code",
        "colab": {}
      },
      "source": [
        "# Getting the month value\n",
        "# df['SALE_DATE'][0].split('/')[0]"
      ],
      "execution_count": 0,
      "outputs": []
    },
    {
      "cell_type": "code",
      "metadata": {
        "id": "MgOb9LUrc9w8",
        "colab_type": "code",
        "colab": {}
      },
      "source": [
        "months = []\n",
        "\n",
        "for i in df['SALE_DATE']:\n",
        "  months.append(int(i.split('/')[0]))"
      ],
      "execution_count": 0,
      "outputs": []
    },
    {
      "cell_type": "code",
      "metadata": {
        "id": "yNR2nnewfks_",
        "colab_type": "code",
        "colab": {}
      },
      "source": [
        "df.insert(0, 'month', months)"
      ],
      "execution_count": 0,
      "outputs": []
    },
    {
      "cell_type": "code",
      "metadata": {
        "id": "WNcW0-i5fgnZ",
        "colab_type": "code",
        "outputId": "7fa82bc9-292a-4d60-a5a9-d090e355172c",
        "colab": {
          "base_uri": "https://localhost:8080/",
          "height": 34
        }
      },
      "source": [
        "df['month'].unique()"
      ],
      "execution_count": 11,
      "outputs": [
        {
          "output_type": "execute_result",
          "data": {
            "text/plain": [
              "array([1, 2, 3, 4])"
            ]
          },
          "metadata": {
            "tags": []
          },
          "execution_count": 11
        }
      ]
    },
    {
      "cell_type": "code",
      "metadata": {
        "id": "FBM3WLi6fW92",
        "colab_type": "code",
        "outputId": "9aea1cd5-35de-4325-c563-41bc38e66e80",
        "colab": {
          "base_uri": "https://localhost:8080/",
          "height": 417
        }
      },
      "source": [
        "df.head()"
      ],
      "execution_count": 12,
      "outputs": [
        {
          "output_type": "execute_result",
          "data": {
            "text/html": [
              "<div>\n",
              "<style scoped>\n",
              "    .dataframe tbody tr th:only-of-type {\n",
              "        vertical-align: middle;\n",
              "    }\n",
              "\n",
              "    .dataframe tbody tr th {\n",
              "        vertical-align: top;\n",
              "    }\n",
              "\n",
              "    .dataframe thead th {\n",
              "        text-align: right;\n",
              "    }\n",
              "</style>\n",
              "<table border=\"1\" class=\"dataframe\">\n",
              "  <thead>\n",
              "    <tr style=\"text-align: right;\">\n",
              "      <th></th>\n",
              "      <th>month</th>\n",
              "      <th>BOROUGH</th>\n",
              "      <th>NEIGHBORHOOD</th>\n",
              "      <th>BUILDING_CLASS_CATEGORY</th>\n",
              "      <th>TAX_CLASS_AT_PRESENT</th>\n",
              "      <th>BLOCK</th>\n",
              "      <th>LOT</th>\n",
              "      <th>EASE-MENT</th>\n",
              "      <th>BUILDING_CLASS_AT_PRESENT</th>\n",
              "      <th>ADDRESS</th>\n",
              "      <th>APARTMENT_NUMBER</th>\n",
              "      <th>ZIP_CODE</th>\n",
              "      <th>RESIDENTIAL_UNITS</th>\n",
              "      <th>COMMERCIAL_UNITS</th>\n",
              "      <th>TOTAL_UNITS</th>\n",
              "      <th>LAND_SQUARE_FEET</th>\n",
              "      <th>GROSS_SQUARE_FEET</th>\n",
              "      <th>YEAR_BUILT</th>\n",
              "      <th>TAX_CLASS_AT_TIME_OF_SALE</th>\n",
              "      <th>BUILDING_CLASS_AT_TIME_OF_SALE</th>\n",
              "      <th>SALE_PRICE</th>\n",
              "      <th>SALE_DATE</th>\n",
              "    </tr>\n",
              "  </thead>\n",
              "  <tbody>\n",
              "    <tr>\n",
              "      <th>44</th>\n",
              "      <td>1</td>\n",
              "      <td>3</td>\n",
              "      <td>OTHER</td>\n",
              "      <td>01 ONE FAMILY DWELLINGS</td>\n",
              "      <td>1</td>\n",
              "      <td>5495</td>\n",
              "      <td>801</td>\n",
              "      <td>NaN</td>\n",
              "      <td>A9</td>\n",
              "      <td>4832 BAY PARKWAY</td>\n",
              "      <td>NaN</td>\n",
              "      <td>11230.0</td>\n",
              "      <td>1.0</td>\n",
              "      <td>0.0</td>\n",
              "      <td>1.0</td>\n",
              "      <td>6,800</td>\n",
              "      <td>1325.0</td>\n",
              "      <td>1930.0</td>\n",
              "      <td>1</td>\n",
              "      <td>A9</td>\n",
              "      <td>550000</td>\n",
              "      <td>01/01/2019</td>\n",
              "    </tr>\n",
              "    <tr>\n",
              "      <th>61</th>\n",
              "      <td>1</td>\n",
              "      <td>4</td>\n",
              "      <td>OTHER</td>\n",
              "      <td>01 ONE FAMILY DWELLINGS</td>\n",
              "      <td>1</td>\n",
              "      <td>7918</td>\n",
              "      <td>72</td>\n",
              "      <td>NaN</td>\n",
              "      <td>A1</td>\n",
              "      <td>80-23 232ND STREET</td>\n",
              "      <td>NaN</td>\n",
              "      <td>11427.0</td>\n",
              "      <td>1.0</td>\n",
              "      <td>0.0</td>\n",
              "      <td>1.0</td>\n",
              "      <td>4,000</td>\n",
              "      <td>2001.0</td>\n",
              "      <td>1940.0</td>\n",
              "      <td>1</td>\n",
              "      <td>A1</td>\n",
              "      <td>200000</td>\n",
              "      <td>01/01/2019</td>\n",
              "    </tr>\n",
              "    <tr>\n",
              "      <th>65</th>\n",
              "      <td>1</td>\n",
              "      <td>1</td>\n",
              "      <td>OTHER</td>\n",
              "      <td>13 CONDOS - ELEVATOR APARTMENTS</td>\n",
              "      <td>2</td>\n",
              "      <td>691</td>\n",
              "      <td>1130</td>\n",
              "      <td>NaN</td>\n",
              "      <td>R4</td>\n",
              "      <td>505 WEST 19TH STREET, 7D</td>\n",
              "      <td>7D</td>\n",
              "      <td>10011.0</td>\n",
              "      <td>1.0</td>\n",
              "      <td>0.0</td>\n",
              "      <td>1.0</td>\n",
              "      <td>18,975</td>\n",
              "      <td>1077.0</td>\n",
              "      <td>2013.0</td>\n",
              "      <td>2</td>\n",
              "      <td>R4</td>\n",
              "      <td>2000000</td>\n",
              "      <td>01/02/2019</td>\n",
              "    </tr>\n",
              "    <tr>\n",
              "      <th>66</th>\n",
              "      <td>1</td>\n",
              "      <td>1</td>\n",
              "      <td>OTHER</td>\n",
              "      <td>10 COOPS - ELEVATOR APARTMENTS</td>\n",
              "      <td>2</td>\n",
              "      <td>1347</td>\n",
              "      <td>18</td>\n",
              "      <td>NaN</td>\n",
              "      <td>D4</td>\n",
              "      <td>345 EAST 54TH ST, 3B</td>\n",
              "      <td>NaN</td>\n",
              "      <td>10022.0</td>\n",
              "      <td>0.0</td>\n",
              "      <td>0.0</td>\n",
              "      <td>0.0</td>\n",
              "      <td>0</td>\n",
              "      <td>0.0</td>\n",
              "      <td>1960.0</td>\n",
              "      <td>2</td>\n",
              "      <td>D4</td>\n",
              "      <td>330000</td>\n",
              "      <td>01/02/2019</td>\n",
              "    </tr>\n",
              "    <tr>\n",
              "      <th>67</th>\n",
              "      <td>1</td>\n",
              "      <td>1</td>\n",
              "      <td>UPPER EAST SIDE (79-96)</td>\n",
              "      <td>10 COOPS - ELEVATOR APARTMENTS</td>\n",
              "      <td>2</td>\n",
              "      <td>1491</td>\n",
              "      <td>62</td>\n",
              "      <td>NaN</td>\n",
              "      <td>D4</td>\n",
              "      <td>16 EAST 80TH STREET, 2A</td>\n",
              "      <td>NaN</td>\n",
              "      <td>10075.0</td>\n",
              "      <td>0.0</td>\n",
              "      <td>0.0</td>\n",
              "      <td>0.0</td>\n",
              "      <td>0</td>\n",
              "      <td>0.0</td>\n",
              "      <td>1925.0</td>\n",
              "      <td>2</td>\n",
              "      <td>D4</td>\n",
              "      <td>600000</td>\n",
              "      <td>01/02/2019</td>\n",
              "    </tr>\n",
              "  </tbody>\n",
              "</table>\n",
              "</div>"
            ],
            "text/plain": [
              "    month BOROUGH  ... SALE_PRICE   SALE_DATE\n",
              "44      1       3  ...     550000  01/01/2019\n",
              "61      1       4  ...     200000  01/01/2019\n",
              "65      1       1  ...    2000000  01/02/2019\n",
              "66      1       1  ...     330000  01/02/2019\n",
              "67      1       1  ...     600000  01/02/2019\n",
              "\n",
              "[5 rows x 22 columns]"
            ]
          },
          "metadata": {
            "tags": []
          },
          "execution_count": 12
        }
      ]
    },
    {
      "cell_type": "code",
      "metadata": {
        "id": "GJ4q95AMqTmP",
        "colab_type": "code",
        "colab": {}
      },
      "source": [
        "# Reasoning later on in assignment\n",
        "df = df[df['NEIGHBORHOOD'] != 'OTHER']"
      ],
      "execution_count": 0,
      "outputs": []
    },
    {
      "cell_type": "code",
      "metadata": {
        "id": "KiMCDqwpt7D4",
        "colab_type": "code",
        "colab": {}
      },
      "source": [
        "# Adding this as well to get rid of NA values\n",
        "df = df.drop(columns='EASE-MENT')"
      ],
      "execution_count": 0,
      "outputs": []
    },
    {
      "cell_type": "code",
      "metadata": {
        "id": "C6dah_qBfYUy",
        "colab_type": "code",
        "colab": {}
      },
      "source": [
        "train = df[df['month'] < 4] # Months: Jan, Feb, Mar\n",
        "test = df[df['month'] == 4] # Months: Apr"
      ],
      "execution_count": 0,
      "outputs": []
    },
    {
      "cell_type": "code",
      "metadata": {
        "id": "6h4dBk48i0uQ",
        "colab_type": "code",
        "outputId": "e4d386b1-d4d5-442a-fd65-b55e79eb6cc3",
        "colab": {
          "base_uri": "https://localhost:8080/",
          "height": 347
        }
      },
      "source": [
        "train.select_dtypes(exclude='number').describe().T"
      ],
      "execution_count": 16,
      "outputs": [
        {
          "output_type": "execute_result",
          "data": {
            "text/html": [
              "<div>\n",
              "<style scoped>\n",
              "    .dataframe tbody tr th:only-of-type {\n",
              "        vertical-align: middle;\n",
              "    }\n",
              "\n",
              "    .dataframe tbody tr th {\n",
              "        vertical-align: top;\n",
              "    }\n",
              "\n",
              "    .dataframe thead th {\n",
              "        text-align: right;\n",
              "    }\n",
              "</style>\n",
              "<table border=\"1\" class=\"dataframe\">\n",
              "  <thead>\n",
              "    <tr style=\"text-align: right;\">\n",
              "      <th></th>\n",
              "      <th>count</th>\n",
              "      <th>unique</th>\n",
              "      <th>top</th>\n",
              "      <th>freq</th>\n",
              "    </tr>\n",
              "  </thead>\n",
              "  <tbody>\n",
              "    <tr>\n",
              "      <th>BOROUGH</th>\n",
              "      <td>1639</td>\n",
              "      <td>3</td>\n",
              "      <td>4</td>\n",
              "      <td>620</td>\n",
              "    </tr>\n",
              "    <tr>\n",
              "      <th>NEIGHBORHOOD</th>\n",
              "      <td>1639</td>\n",
              "      <td>10</td>\n",
              "      <td>FLUSHING-NORTH</td>\n",
              "      <td>310</td>\n",
              "    </tr>\n",
              "    <tr>\n",
              "      <th>BUILDING_CLASS_CATEGORY</th>\n",
              "      <td>1639</td>\n",
              "      <td>29</td>\n",
              "      <td>10 COOPS - ELEVATOR APARTMENTS</td>\n",
              "      <td>547</td>\n",
              "    </tr>\n",
              "    <tr>\n",
              "      <th>TAX_CLASS_AT_PRESENT</th>\n",
              "      <td>1639</td>\n",
              "      <td>8</td>\n",
              "      <td>2</td>\n",
              "      <td>1007</td>\n",
              "    </tr>\n",
              "    <tr>\n",
              "      <th>BUILDING_CLASS_AT_PRESENT</th>\n",
              "      <td>1639</td>\n",
              "      <td>50</td>\n",
              "      <td>D4</td>\n",
              "      <td>547</td>\n",
              "    </tr>\n",
              "    <tr>\n",
              "      <th>ADDRESS</th>\n",
              "      <td>1639</td>\n",
              "      <td>1631</td>\n",
              "      <td>33-52 CRESCENT STREET, 5C</td>\n",
              "      <td>2</td>\n",
              "    </tr>\n",
              "    <tr>\n",
              "      <th>APARTMENT_NUMBER</th>\n",
              "      <td>472</td>\n",
              "      <td>268</td>\n",
              "      <td>3A</td>\n",
              "      <td>13</td>\n",
              "    </tr>\n",
              "    <tr>\n",
              "      <th>LAND_SQUARE_FEET</th>\n",
              "      <td>1639</td>\n",
              "      <td>289</td>\n",
              "      <td>0</td>\n",
              "      <td>926</td>\n",
              "    </tr>\n",
              "    <tr>\n",
              "      <th>BUILDING_CLASS_AT_TIME_OF_SALE</th>\n",
              "      <td>1639</td>\n",
              "      <td>50</td>\n",
              "      <td>D4</td>\n",
              "      <td>547</td>\n",
              "    </tr>\n",
              "    <tr>\n",
              "      <th>SALE_DATE</th>\n",
              "      <td>1639</td>\n",
              "      <td>65</td>\n",
              "      <td>03/20/2019</td>\n",
              "      <td>55</td>\n",
              "    </tr>\n",
              "  </tbody>\n",
              "</table>\n",
              "</div>"
            ],
            "text/plain": [
              "                               count  ...  freq\n",
              "BOROUGH                         1639  ...   620\n",
              "NEIGHBORHOOD                    1639  ...   310\n",
              "BUILDING_CLASS_CATEGORY         1639  ...   547\n",
              "TAX_CLASS_AT_PRESENT            1639  ...  1007\n",
              "BUILDING_CLASS_AT_PRESENT       1639  ...   547\n",
              "ADDRESS                         1639  ...     2\n",
              "APARTMENT_NUMBER                 472  ...    13\n",
              "LAND_SQUARE_FEET                1639  ...   926\n",
              "BUILDING_CLASS_AT_TIME_OF_SALE  1639  ...   547\n",
              "SALE_DATE                       1639  ...    55\n",
              "\n",
              "[10 rows x 4 columns]"
            ]
          },
          "metadata": {
            "tags": []
          },
          "execution_count": 16
        }
      ]
    },
    {
      "cell_type": "code",
      "metadata": {
        "id": "2uRAKTAvlswN",
        "colab_type": "code",
        "colab": {}
      },
      "source": [
        "# Look at catagorical features with minimal unique values (to not add so many columns)"
      ],
      "execution_count": 0,
      "outputs": []
    },
    {
      "cell_type": "code",
      "metadata": {
        "id": "B_B1AsL3l5SP",
        "colab_type": "code",
        "outputId": "404d3a40-b4cc-4ed4-afd9-a83ba0994fc9",
        "colab": {
          "base_uri": "https://localhost:8080/",
          "height": 407
        }
      },
      "source": [
        "# Get a look at value counts for each\n",
        "\n",
        "print(df['BOROUGH'].value_counts(),\n",
        "      df['NEIGHBORHOOD'].value_counts(),\n",
        "      df['TAX_CLASS_AT_PRESENT'].value_counts()\n",
        ")"
      ],
      "execution_count": 18,
      "outputs": [
        {
          "output_type": "stream",
          "text": [
            "1    804\n",
            "4    765\n",
            "3    544\n",
            "Name: BOROUGH, dtype: int64 FLUSHING-NORTH             384\n",
            "UPPER EAST SIDE (59-79)    254\n",
            "UPPER EAST SIDE (79-96)    251\n",
            "BEDFORD STUYVESANT         224\n",
            "FOREST HILLS               223\n",
            "UPPER WEST SIDE (59-79)    187\n",
            "EAST NEW YORK              170\n",
            "ASTORIA                    158\n",
            "BOROUGH PARK               150\n",
            "GRAMERCY                   112\n",
            "Name: NEIGHBORHOOD, dtype: int64 2     1308\n",
            "1      556\n",
            "2C     102\n",
            "4       78\n",
            "2A      38\n",
            "1C      18\n",
            "1B       9\n",
            "1A       4\n",
            "Name: TAX_CLASS_AT_PRESENT, dtype: int64\n"
          ],
          "name": "stdout"
        }
      ]
    },
    {
      "cell_type": "code",
      "metadata": {
        "id": "xxEmYyE_pDaz",
        "colab_type": "code",
        "colab": {}
      },
      "source": [
        "# The 'OTHER' value in df['NEIGHBORHOOD'] seems to be a value that needs to\n",
        "# be removed as there are almost 30 times as many as the next value\n",
        "\n",
        "# Ran code below before making Train/Test\n",
        "# print(df[df['NEIGHBORHOOD'] == 'OTHER'].shape)\n",
        "# df = df[df['NEIGHBORHOOD'] != 'OTHER']"
      ],
      "execution_count": 0,
      "outputs": []
    },
    {
      "cell_type": "code",
      "metadata": {
        "id": "H_ZMVn4Ll6Q9",
        "colab_type": "code",
        "outputId": "ce463198-0524-4ecd-e724-994a3230277a",
        "colab": {
          "base_uri": "https://localhost:8080/",
          "height": 230
        }
      },
      "source": [
        "# Yields answers in scientific notation without '.round(2)'\n",
        "train.groupby('NEIGHBORHOOD')['SALE_PRICE'].mean().round(2)"
      ],
      "execution_count": 20,
      "outputs": [
        {
          "output_type": "execute_result",
          "data": {
            "text/plain": [
              "NEIGHBORHOOD\n",
              "ASTORIA                     839205.97\n",
              "BEDFORD STUYVESANT          959051.86\n",
              "BOROUGH PARK               1044024.52\n",
              "EAST NEW YORK               580278.19\n",
              "FLUSHING-NORTH              691111.45\n",
              "FOREST HILLS                556342.91\n",
              "GRAMERCY                    979655.32\n",
              "UPPER EAST SIDE (59-79)     923063.17\n",
              "UPPER EAST SIDE (79-96)     892333.17\n",
              "UPPER WEST SIDE (59-79)     945523.20\n",
              "Name: SALE_PRICE, dtype: float64"
            ]
          },
          "metadata": {
            "tags": []
          },
          "execution_count": 20
        }
      ]
    },
    {
      "cell_type": "code",
      "metadata": {
        "id": "GY1Q8zSXl6HU",
        "colab_type": "code",
        "outputId": "611069b9-d9e0-4d56-c8e8-6e39d3d66f67",
        "colab": {
          "base_uri": "https://localhost:8080/",
          "height": 194
        }
      },
      "source": [
        "# Yields answers in scientific notation without '.round(2)' \n",
        "train.groupby('TAX_CLASS_AT_PRESENT')['SALE_PRICE'].mean().round(2)"
      ],
      "execution_count": 21,
      "outputs": [
        {
          "output_type": "execute_result",
          "data": {
            "text/plain": [
              "TAX_CLASS_AT_PRESENT\n",
              "1      938165.28\n",
              "1A     715712.50\n",
              "1B     706875.00\n",
              "1C     790236.00\n",
              "2      756189.54\n",
              "2A    1201856.87\n",
              "2C     749263.92\n",
              "4      852934.74\n",
              "Name: SALE_PRICE, dtype: float64"
            ]
          },
          "metadata": {
            "tags": []
          },
          "execution_count": 21
        }
      ]
    },
    {
      "cell_type": "code",
      "metadata": {
        "id": "_sJYDwkhi18Y",
        "colab_type": "code",
        "outputId": "6818332f-66b0-4b57-b15e-67774e282293",
        "colab": {
          "base_uri": "https://localhost:8080/",
          "height": 105
        }
      },
      "source": [
        "train.groupby('BOROUGH')['SALE_PRICE'].mean().round(2)"
      ],
      "execution_count": 22,
      "outputs": [
        {
          "output_type": "execute_result",
          "data": {
            "text/plain": [
              "BOROUGH\n",
              "1    926380.27\n",
              "3    853978.40\n",
              "4    683493.40\n",
              "Name: SALE_PRICE, dtype: float64"
            ]
          },
          "metadata": {
            "tags": []
          },
          "execution_count": 22
        }
      ]
    },
    {
      "cell_type": "code",
      "metadata": {
        "id": "vRKGbkwOkOpZ",
        "colab_type": "code",
        "colab": {}
      },
      "source": [
        "# Starting One-Hot Encoding Process\n",
        "target = 'SALE_PRICE'\n",
        "high_cardinality = ['BUILDING_CLASS_CATEGORY', 'BUILDING_CLASS_AT_PRESENT',\n",
        "                    'ADDRESS', 'APARTMENT_NUMBER', 'LAND_SQUARE_FEET',\n",
        "                    'BUILDING_CLASS_AT_TIME_OF_SALE', 'YEAR_BUILT', 'SALE_DATE'\n",
        "                   ]\n",
        "features = train.columns.drop([target] + high_cardinality)\n",
        "\n",
        "X_train = train[features]\n",
        "y_train = train[target]\n",
        "X_test = test[features]\n",
        "y_test = test[target]"
      ],
      "execution_count": 0,
      "outputs": []
    },
    {
      "cell_type": "code",
      "metadata": {
        "id": "K3kVehczn8WL",
        "colab_type": "code",
        "outputId": "5ffa3a9e-ed52-4ad9-ca57-659ace2aa601",
        "colab": {
          "base_uri": "https://localhost:8080/",
          "height": 318
        }
      },
      "source": [
        "print(X_train.shape)\n",
        "X_train.head()"
      ],
      "execution_count": 24,
      "outputs": [
        {
          "output_type": "stream",
          "text": [
            "(1639, 12)\n"
          ],
          "name": "stdout"
        },
        {
          "output_type": "execute_result",
          "data": {
            "text/html": [
              "<div>\n",
              "<style scoped>\n",
              "    .dataframe tbody tr th:only-of-type {\n",
              "        vertical-align: middle;\n",
              "    }\n",
              "\n",
              "    .dataframe tbody tr th {\n",
              "        vertical-align: top;\n",
              "    }\n",
              "\n",
              "    .dataframe thead th {\n",
              "        text-align: right;\n",
              "    }\n",
              "</style>\n",
              "<table border=\"1\" class=\"dataframe\">\n",
              "  <thead>\n",
              "    <tr style=\"text-align: right;\">\n",
              "      <th></th>\n",
              "      <th>month</th>\n",
              "      <th>BOROUGH</th>\n",
              "      <th>NEIGHBORHOOD</th>\n",
              "      <th>TAX_CLASS_AT_PRESENT</th>\n",
              "      <th>BLOCK</th>\n",
              "      <th>LOT</th>\n",
              "      <th>ZIP_CODE</th>\n",
              "      <th>RESIDENTIAL_UNITS</th>\n",
              "      <th>COMMERCIAL_UNITS</th>\n",
              "      <th>TOTAL_UNITS</th>\n",
              "      <th>GROSS_SQUARE_FEET</th>\n",
              "      <th>TAX_CLASS_AT_TIME_OF_SALE</th>\n",
              "    </tr>\n",
              "  </thead>\n",
              "  <tbody>\n",
              "    <tr>\n",
              "      <th>67</th>\n",
              "      <td>1</td>\n",
              "      <td>1</td>\n",
              "      <td>UPPER EAST SIDE (79-96)</td>\n",
              "      <td>2</td>\n",
              "      <td>1491</td>\n",
              "      <td>62</td>\n",
              "      <td>10075.0</td>\n",
              "      <td>0.0</td>\n",
              "      <td>0.0</td>\n",
              "      <td>0.0</td>\n",
              "      <td>0.0</td>\n",
              "      <td>2</td>\n",
              "    </tr>\n",
              "    <tr>\n",
              "      <th>71</th>\n",
              "      <td>1</td>\n",
              "      <td>1</td>\n",
              "      <td>UPPER WEST SIDE (59-79)</td>\n",
              "      <td>2</td>\n",
              "      <td>1171</td>\n",
              "      <td>2200</td>\n",
              "      <td>10069.0</td>\n",
              "      <td>1.0</td>\n",
              "      <td>0.0</td>\n",
              "      <td>1.0</td>\n",
              "      <td>827.0</td>\n",
              "      <td>2</td>\n",
              "    </tr>\n",
              "    <tr>\n",
              "      <th>87</th>\n",
              "      <td>1</td>\n",
              "      <td>3</td>\n",
              "      <td>BEDFORD STUYVESANT</td>\n",
              "      <td>2</td>\n",
              "      <td>2016</td>\n",
              "      <td>12</td>\n",
              "      <td>11238.0</td>\n",
              "      <td>28.0</td>\n",
              "      <td>1.0</td>\n",
              "      <td>29.0</td>\n",
              "      <td>26310.0</td>\n",
              "      <td>2</td>\n",
              "    </tr>\n",
              "    <tr>\n",
              "      <th>88</th>\n",
              "      <td>1</td>\n",
              "      <td>3</td>\n",
              "      <td>BEDFORD STUYVESANT</td>\n",
              "      <td>2</td>\n",
              "      <td>2016</td>\n",
              "      <td>14</td>\n",
              "      <td>11238.0</td>\n",
              "      <td>13.0</td>\n",
              "      <td>1.0</td>\n",
              "      <td>14.0</td>\n",
              "      <td>12381.0</td>\n",
              "      <td>2</td>\n",
              "    </tr>\n",
              "    <tr>\n",
              "      <th>104</th>\n",
              "      <td>1</td>\n",
              "      <td>3</td>\n",
              "      <td>EAST NEW YORK</td>\n",
              "      <td>1</td>\n",
              "      <td>3995</td>\n",
              "      <td>24</td>\n",
              "      <td>11207.0</td>\n",
              "      <td>2.0</td>\n",
              "      <td>0.0</td>\n",
              "      <td>2.0</td>\n",
              "      <td>1800.0</td>\n",
              "      <td>1</td>\n",
              "    </tr>\n",
              "  </tbody>\n",
              "</table>\n",
              "</div>"
            ],
            "text/plain": [
              "     month BOROUGH  ... GROSS_SQUARE_FEET TAX_CLASS_AT_TIME_OF_SALE\n",
              "67       1       1  ...               0.0                         2\n",
              "71       1       1  ...             827.0                         2\n",
              "87       1       3  ...           26310.0                         2\n",
              "88       1       3  ...           12381.0                         2\n",
              "104      1       3  ...            1800.0                         1\n",
              "\n",
              "[5 rows x 12 columns]"
            ]
          },
          "metadata": {
            "tags": []
          },
          "execution_count": 24
        }
      ]
    },
    {
      "cell_type": "code",
      "metadata": {
        "id": "G6UBrEByoeFv",
        "colab_type": "code",
        "colab": {}
      },
      "source": [
        "import category_encoders as ce\n",
        "\n",
        "encoder = ce.OneHotEncoder(use_cat_names=True)\n",
        "X_train = encoder.fit_transform(X_train)\n",
        "X_test = encoder.fit_transform(X_test)"
      ],
      "execution_count": 0,
      "outputs": []
    },
    {
      "cell_type": "code",
      "metadata": {
        "id": "Yu7LuDFdr-QV",
        "colab_type": "code",
        "outputId": "2c733d64-6e83-4e97-93db-ab795c32b8ea",
        "colab": {
          "base_uri": "https://localhost:8080/",
          "height": 252
        }
      },
      "source": [
        "print(X_train.shape)\n",
        "X_train.head()"
      ],
      "execution_count": 26,
      "outputs": [
        {
          "output_type": "stream",
          "text": [
            "(1639, 30)\n"
          ],
          "name": "stdout"
        },
        {
          "output_type": "execute_result",
          "data": {
            "text/html": [
              "<div>\n",
              "<style scoped>\n",
              "    .dataframe tbody tr th:only-of-type {\n",
              "        vertical-align: middle;\n",
              "    }\n",
              "\n",
              "    .dataframe tbody tr th {\n",
              "        vertical-align: top;\n",
              "    }\n",
              "\n",
              "    .dataframe thead th {\n",
              "        text-align: right;\n",
              "    }\n",
              "</style>\n",
              "<table border=\"1\" class=\"dataframe\">\n",
              "  <thead>\n",
              "    <tr style=\"text-align: right;\">\n",
              "      <th></th>\n",
              "      <th>month</th>\n",
              "      <th>BOROUGH_1</th>\n",
              "      <th>BOROUGH_3</th>\n",
              "      <th>BOROUGH_4</th>\n",
              "      <th>NEIGHBORHOOD_UPPER EAST SIDE (79-96)</th>\n",
              "      <th>NEIGHBORHOOD_UPPER WEST SIDE (59-79)</th>\n",
              "      <th>NEIGHBORHOOD_BEDFORD STUYVESANT</th>\n",
              "      <th>NEIGHBORHOOD_EAST NEW YORK</th>\n",
              "      <th>NEIGHBORHOOD_ASTORIA</th>\n",
              "      <th>NEIGHBORHOOD_FLUSHING-NORTH</th>\n",
              "      <th>NEIGHBORHOOD_GRAMERCY</th>\n",
              "      <th>NEIGHBORHOOD_UPPER EAST SIDE (59-79)</th>\n",
              "      <th>NEIGHBORHOOD_BOROUGH PARK</th>\n",
              "      <th>NEIGHBORHOOD_FOREST HILLS</th>\n",
              "      <th>TAX_CLASS_AT_PRESENT_2</th>\n",
              "      <th>TAX_CLASS_AT_PRESENT_1</th>\n",
              "      <th>TAX_CLASS_AT_PRESENT_2A</th>\n",
              "      <th>TAX_CLASS_AT_PRESENT_4</th>\n",
              "      <th>TAX_CLASS_AT_PRESENT_2C</th>\n",
              "      <th>TAX_CLASS_AT_PRESENT_1B</th>\n",
              "      <th>TAX_CLASS_AT_PRESENT_1C</th>\n",
              "      <th>TAX_CLASS_AT_PRESENT_1A</th>\n",
              "      <th>BLOCK</th>\n",
              "      <th>LOT</th>\n",
              "      <th>ZIP_CODE</th>\n",
              "      <th>RESIDENTIAL_UNITS</th>\n",
              "      <th>COMMERCIAL_UNITS</th>\n",
              "      <th>TOTAL_UNITS</th>\n",
              "      <th>GROSS_SQUARE_FEET</th>\n",
              "      <th>TAX_CLASS_AT_TIME_OF_SALE</th>\n",
              "    </tr>\n",
              "  </thead>\n",
              "  <tbody>\n",
              "    <tr>\n",
              "      <th>67</th>\n",
              "      <td>1</td>\n",
              "      <td>1</td>\n",
              "      <td>0</td>\n",
              "      <td>0</td>\n",
              "      <td>1</td>\n",
              "      <td>0</td>\n",
              "      <td>0</td>\n",
              "      <td>0</td>\n",
              "      <td>0</td>\n",
              "      <td>0</td>\n",
              "      <td>0</td>\n",
              "      <td>0</td>\n",
              "      <td>0</td>\n",
              "      <td>0</td>\n",
              "      <td>1</td>\n",
              "      <td>0</td>\n",
              "      <td>0</td>\n",
              "      <td>0</td>\n",
              "      <td>0</td>\n",
              "      <td>0</td>\n",
              "      <td>0</td>\n",
              "      <td>0</td>\n",
              "      <td>1491</td>\n",
              "      <td>62</td>\n",
              "      <td>10075.0</td>\n",
              "      <td>0.0</td>\n",
              "      <td>0.0</td>\n",
              "      <td>0.0</td>\n",
              "      <td>0.0</td>\n",
              "      <td>2</td>\n",
              "    </tr>\n",
              "    <tr>\n",
              "      <th>71</th>\n",
              "      <td>1</td>\n",
              "      <td>1</td>\n",
              "      <td>0</td>\n",
              "      <td>0</td>\n",
              "      <td>0</td>\n",
              "      <td>1</td>\n",
              "      <td>0</td>\n",
              "      <td>0</td>\n",
              "      <td>0</td>\n",
              "      <td>0</td>\n",
              "      <td>0</td>\n",
              "      <td>0</td>\n",
              "      <td>0</td>\n",
              "      <td>0</td>\n",
              "      <td>1</td>\n",
              "      <td>0</td>\n",
              "      <td>0</td>\n",
              "      <td>0</td>\n",
              "      <td>0</td>\n",
              "      <td>0</td>\n",
              "      <td>0</td>\n",
              "      <td>0</td>\n",
              "      <td>1171</td>\n",
              "      <td>2200</td>\n",
              "      <td>10069.0</td>\n",
              "      <td>1.0</td>\n",
              "      <td>0.0</td>\n",
              "      <td>1.0</td>\n",
              "      <td>827.0</td>\n",
              "      <td>2</td>\n",
              "    </tr>\n",
              "    <tr>\n",
              "      <th>87</th>\n",
              "      <td>1</td>\n",
              "      <td>0</td>\n",
              "      <td>1</td>\n",
              "      <td>0</td>\n",
              "      <td>0</td>\n",
              "      <td>0</td>\n",
              "      <td>1</td>\n",
              "      <td>0</td>\n",
              "      <td>0</td>\n",
              "      <td>0</td>\n",
              "      <td>0</td>\n",
              "      <td>0</td>\n",
              "      <td>0</td>\n",
              "      <td>0</td>\n",
              "      <td>1</td>\n",
              "      <td>0</td>\n",
              "      <td>0</td>\n",
              "      <td>0</td>\n",
              "      <td>0</td>\n",
              "      <td>0</td>\n",
              "      <td>0</td>\n",
              "      <td>0</td>\n",
              "      <td>2016</td>\n",
              "      <td>12</td>\n",
              "      <td>11238.0</td>\n",
              "      <td>28.0</td>\n",
              "      <td>1.0</td>\n",
              "      <td>29.0</td>\n",
              "      <td>26310.0</td>\n",
              "      <td>2</td>\n",
              "    </tr>\n",
              "    <tr>\n",
              "      <th>88</th>\n",
              "      <td>1</td>\n",
              "      <td>0</td>\n",
              "      <td>1</td>\n",
              "      <td>0</td>\n",
              "      <td>0</td>\n",
              "      <td>0</td>\n",
              "      <td>1</td>\n",
              "      <td>0</td>\n",
              "      <td>0</td>\n",
              "      <td>0</td>\n",
              "      <td>0</td>\n",
              "      <td>0</td>\n",
              "      <td>0</td>\n",
              "      <td>0</td>\n",
              "      <td>1</td>\n",
              "      <td>0</td>\n",
              "      <td>0</td>\n",
              "      <td>0</td>\n",
              "      <td>0</td>\n",
              "      <td>0</td>\n",
              "      <td>0</td>\n",
              "      <td>0</td>\n",
              "      <td>2016</td>\n",
              "      <td>14</td>\n",
              "      <td>11238.0</td>\n",
              "      <td>13.0</td>\n",
              "      <td>1.0</td>\n",
              "      <td>14.0</td>\n",
              "      <td>12381.0</td>\n",
              "      <td>2</td>\n",
              "    </tr>\n",
              "    <tr>\n",
              "      <th>104</th>\n",
              "      <td>1</td>\n",
              "      <td>0</td>\n",
              "      <td>1</td>\n",
              "      <td>0</td>\n",
              "      <td>0</td>\n",
              "      <td>0</td>\n",
              "      <td>0</td>\n",
              "      <td>1</td>\n",
              "      <td>0</td>\n",
              "      <td>0</td>\n",
              "      <td>0</td>\n",
              "      <td>0</td>\n",
              "      <td>0</td>\n",
              "      <td>0</td>\n",
              "      <td>0</td>\n",
              "      <td>1</td>\n",
              "      <td>0</td>\n",
              "      <td>0</td>\n",
              "      <td>0</td>\n",
              "      <td>0</td>\n",
              "      <td>0</td>\n",
              "      <td>0</td>\n",
              "      <td>3995</td>\n",
              "      <td>24</td>\n",
              "      <td>11207.0</td>\n",
              "      <td>2.0</td>\n",
              "      <td>0.0</td>\n",
              "      <td>2.0</td>\n",
              "      <td>1800.0</td>\n",
              "      <td>1</td>\n",
              "    </tr>\n",
              "  </tbody>\n",
              "</table>\n",
              "</div>"
            ],
            "text/plain": [
              "     month  BOROUGH_1  ...  GROSS_SQUARE_FEET  TAX_CLASS_AT_TIME_OF_SALE\n",
              "67       1          1  ...                0.0                          2\n",
              "71       1          1  ...              827.0                          2\n",
              "87       1          0  ...            26310.0                          2\n",
              "88       1          0  ...            12381.0                          2\n",
              "104      1          0  ...             1800.0                          1\n",
              "\n",
              "[5 rows x 30 columns]"
            ]
          },
          "metadata": {
            "tags": []
          },
          "execution_count": 26
        }
      ]
    },
    {
      "cell_type": "code",
      "metadata": {
        "id": "CFgJ7f-sspni",
        "colab_type": "code",
        "outputId": "6f1c34a0-f193-4aa7-df46-5ff00ac3d4b6",
        "colab": {
          "base_uri": "https://localhost:8080/",
          "height": 34
        }
      },
      "source": [
        "from sklearn.feature_selection import f_regression, SelectKBest\n",
        "\n",
        "selector = SelectKBest(score_func=f_regression, k=15) # k=15 arbitrary from lecture\n",
        "X_train_selected = selector.fit_transform(X_train, y_train)\n",
        "X_test_selected = selector.transform(X_test)\n",
        "X_train_selected.shape"
      ],
      "execution_count": 28,
      "outputs": [
        {
          "output_type": "execute_result",
          "data": {
            "text/plain": [
              "(1639, 15)"
            ]
          },
          "metadata": {
            "tags": []
          },
          "execution_count": 28
        }
      ]
    },
    {
      "cell_type": "code",
      "metadata": {
        "id": "7pBLxMs75L5J",
        "colab_type": "code",
        "colab": {
          "base_uri": "https://localhost:8080/",
          "height": 603
        },
        "outputId": "fa684565-ea30-4f24-dfe0-88573db15ce5"
      },
      "source": [
        "all_names = X_train.columns\n",
        "selected_mask = selector.get_support()\n",
        "selected_names = all_names[selected_mask]\n",
        "unselected_names = all_names[~selected_mask]\n",
        "\n",
        "print('Features Selected:')\n",
        "for name in selected_names:\n",
        "  print(name)\n",
        "\n",
        "print('')\n",
        "print('Features Not Selected:')\n",
        "for name in unselected_names:\n",
        "  print(name)"
      ],
      "execution_count": 31,
      "outputs": [
        {
          "output_type": "stream",
          "text": [
            "Features Selected:\n",
            "BOROUGH_1\n",
            "BOROUGH_4\n",
            "NEIGHBORHOOD_BEDFORD STUYVESANT\n",
            "NEIGHBORHOOD_EAST NEW YORK\n",
            "NEIGHBORHOOD_FLUSHING-NORTH\n",
            "NEIGHBORHOOD_BOROUGH PARK\n",
            "NEIGHBORHOOD_FOREST HILLS\n",
            "TAX_CLASS_AT_PRESENT_2\n",
            "TAX_CLASS_AT_PRESENT_1\n",
            "TAX_CLASS_AT_PRESENT_2A\n",
            "BLOCK\n",
            "ZIP_CODE\n",
            "RESIDENTIAL_UNITS\n",
            "TOTAL_UNITS\n",
            "GROSS_SQUARE_FEET\n",
            "\n",
            "Features Not Selected:\n",
            "month\n",
            "BOROUGH_3\n",
            "NEIGHBORHOOD_UPPER EAST SIDE (79-96)\n",
            "NEIGHBORHOOD_UPPER WEST SIDE (59-79)\n",
            "NEIGHBORHOOD_ASTORIA\n",
            "NEIGHBORHOOD_GRAMERCY\n",
            "NEIGHBORHOOD_UPPER EAST SIDE (59-79)\n",
            "TAX_CLASS_AT_PRESENT_4\n",
            "TAX_CLASS_AT_PRESENT_2C\n",
            "TAX_CLASS_AT_PRESENT_1B\n",
            "TAX_CLASS_AT_PRESENT_1C\n",
            "TAX_CLASS_AT_PRESENT_1A\n",
            "LOT\n",
            "COMMERCIAL_UNITS\n",
            "TAX_CLASS_AT_TIME_OF_SALE\n"
          ],
          "name": "stdout"
        }
      ]
    },
    {
      "cell_type": "code",
      "metadata": {
        "id": "KIfsC3YR7hk3",
        "colab_type": "code",
        "colab": {
          "base_uri": "https://localhost:8080/",
          "height": 1000
        },
        "outputId": "f8c5164a-ada3-455b-8345-2da434c00eac"
      },
      "source": [
        "from sklearn.linear_model import LinearRegression\n",
        "from sklearn.metrics import mean_absolute_error\n",
        "\n",
        "for k in range(1, len(X_train.columns) + 1):\n",
        "  print(f'{k} features:')\n",
        "\n",
        "  selector = SelectKBest(score_func=f_regression, k=k)\n",
        "  X_train_selected = selector.fit_transform(X_train, y_train)\n",
        "  X_test_selected = selector.transform(X_test)\n",
        "\n",
        "  model = LinearRegression()\n",
        "  model.fit(X_train_selected, y_train)\n",
        "  y_pred = model.predict(X_test_selected)\n",
        "\n",
        "  mae = mean_absolute_error(y_test, y_pred)\n",
        "  print(f'Test MAE: ${mae:,.0f} \\n')"
      ],
      "execution_count": 33,
      "outputs": [
        {
          "output_type": "stream",
          "text": [
            "1 features:\n",
            "Test MAE: $374,241 \n",
            "\n",
            "2 features:\n",
            "Test MAE: $365,245 \n",
            "\n",
            "3 features:\n",
            "Test MAE: $359,600 \n",
            "\n",
            "4 features:\n",
            "Test MAE: $351,886 \n",
            "\n",
            "5 features:\n",
            "Test MAE: $360,660 \n",
            "\n",
            "6 features:\n",
            "Test MAE: $362,023 \n",
            "\n",
            "7 features:\n",
            "Test MAE: $361,189 \n",
            "\n",
            "8 features:\n",
            "Test MAE: $345,996 \n",
            "\n",
            "9 features:\n",
            "Test MAE: $353,834 \n",
            "\n",
            "10 features:\n",
            "Test MAE: $359,986 \n",
            "\n",
            "11 features:\n",
            "Test MAE: $360,502 \n",
            "\n",
            "12 features:\n",
            "Test MAE: $366,983 \n",
            "\n",
            "13 features:\n",
            "Test MAE: $371,943 \n",
            "\n",
            "14 features:\n",
            "Test MAE: $377,858 \n",
            "\n",
            "15 features:\n",
            "Test MAE: $378,448 \n",
            "\n",
            "16 features:\n",
            "Test MAE: $385,400 \n",
            "\n",
            "17 features:\n",
            "Test MAE: $387,646 \n",
            "\n",
            "18 features:\n",
            "Test MAE: $388,624 \n",
            "\n",
            "19 features:\n",
            "Test MAE: $407,594 \n",
            "\n",
            "20 features:\n",
            "Test MAE: $372,752 \n",
            "\n",
            "21 features:\n",
            "Test MAE: $380,684 \n",
            "\n",
            "22 features:\n",
            "Test MAE: $379,922 \n",
            "\n",
            "23 features:\n",
            "Test MAE: $378,406 \n",
            "\n",
            "24 features:\n",
            "Test MAE: $380,422 \n",
            "\n",
            "25 features:\n",
            "Test MAE: $382,380 \n",
            "\n",
            "26 features:\n",
            "Test MAE: $383,274 \n",
            "\n",
            "27 features:\n",
            "Test MAE: $373,789 \n",
            "\n",
            "28 features:\n",
            "Test MAE: $374,522 \n",
            "\n",
            "29 features:\n",
            "Test MAE: $374,663 \n",
            "\n",
            "30 features:\n",
            "Test MAE: $374,663 \n",
            "\n"
          ],
          "name": "stdout"
        }
      ]
    },
    {
      "cell_type": "code",
      "metadata": {
        "id": "i0zRVPo89W3O",
        "colab_type": "code",
        "colab": {
          "base_uri": "https://localhost:8080/",
          "height": 1000
        },
        "outputId": "06580a21-e042-4f19-f1a7-201b832fd704"
      },
      "source": [
        "%matplotlib inline\n",
        "from IPython.display import display, HTML\n",
        "from ipywidgets import interact\n",
        "import matplotlib.pyplot as plt\n",
        "from sklearn.linear_model import Ridge\n",
        "from sklearn.preprocessing import StandardScaler\n",
        "\n",
        "for alpha in [10**1, 10**2, 10**3, 10**4, 10**5, 10**6]:\n",
        "\n",
        "    scaler = StandardScaler()\n",
        "    X_train_scaled = scaler.fit_transform(X_train)\n",
        "    X_test_scaled = scaler.transform(X_test)\n",
        "\n",
        "    display(HTML(f'Ridge Regression, with alpha={alpha}'))\n",
        "    model = Ridge(alpha=alpha)\n",
        "    model.fit(X_train_scaled, y_train)\n",
        "    y_pred = model.predict(X_test_scaled)\n",
        "\n",
        "    mae = mean_absolute_error(y_test, y_pred)\n",
        "    display(HTML(f'Test Mean Absolute Error: ${mae:,.0f}'))\n",
        "\n",
        "    coefficients = pd.Series(model.coef_, X_train.columns)\n",
        "    plt.figure(figsize=(16,8))\n",
        "    coefficients.sort_values().plot.barh(color='grey')\n",
        "    plt.xlim(-400,700)\n",
        "    plt.show()"
      ],
      "execution_count": 37,
      "outputs": [
        {
          "output_type": "display_data",
          "data": {
            "text/html": [
              "Ridge Regression, with alpha=10"
            ],
            "text/plain": [
              "<IPython.core.display.HTML object>"
            ]
          },
          "metadata": {
            "tags": []
          }
        },
        {
          "output_type": "display_data",
          "data": {
            "text/html": [
              "Test Mean Absolute Error: $383,366"
            ],
            "text/plain": [
              "<IPython.core.display.HTML object>"
            ]
          },
          "metadata": {
            "tags": []
          }
        },
        {
          "output_type": "display_data",
          "data": {
            "image/png": "[encoded data removed]",
            "text/plain": [
              "<Figure size 1152x576 with 1 Axes>"
            ]
          },
          "metadata": {
            "tags": []
          }
        },
        {
          "output_type": "display_data",
          "data": {
            "text/html": [
              "Ridge Regression, with alpha=100"
            ],
            "text/plain": [
              "<IPython.core.display.HTML object>"
            ]
          },
          "metadata": {
            "tags": []
          }
        },
        {
          "output_type": "display_data",
          "data": {
            "text/html": [
              "Test Mean Absolute Error: $372,843"
            ],
            "text/plain": [
              "<IPython.core.display.HTML object>"
            ]
          },
          "metadata": {
            "tags": []
          }
        },
        {
          "output_type": "display_data",
          "data": {
            "image/png": "[encoded data removed]",
            "text/plain": [
              "<Figure size 1152x576 with 1 Axes>"
            ]
          },
          "metadata": {
            "tags": []
          }
        },
        {
          "output_type": "display_data",
          "data": {
            "text/html": [
              "Ridge Regression, with alpha=1000"
            ],
            "text/plain": [
              "<IPython.core.display.HTML object>"
            ]
          },
          "metadata": {
            "tags": []
          }
        },
        {
          "output_type": "display_data",
          "data": {
            "text/html": [
              "Test Mean Absolute Error: $360,049"
            ],
            "text/plain": [
              "<IPython.core.display.HTML object>"
            ]
          },
          "metadata": {
            "tags": []
          }
        },
        {
          "output_type": "display_data",
          "data": {
            "image/png": "[encoded data removed]",
            "text/plain": [
              "<Figure size 1152x576 with 1 Axes>"
            ]
          },
          "metadata": {
            "tags": []
          }
        },
        {
          "output_type": "display_data",
          "data": {
            "text/html": [
              "Ridge Regression, with alpha=10000"
            ],
            "text/plain": [
              "<IPython.core.display.HTML object>"
            ]
          },
          "metadata": {
            "tags": []
          }
        },
        {
          "output_type": "display_data",
          "data": {
            "text/html": [
              "Test Mean Absolute Error: $373,575"
            ],
            "text/plain": [
              "<IPython.core.display.HTML object>"
            ]
          },
          "metadata": {
            "tags": []
          }
        },
        {
          "output_type": "display_data",
          "data": {
            "image/png": "[encoded data removed]",
            "text/plain": [
              "<Figure size 1152x576 with 1 Axes>"
            ]
          },
          "metadata": {
            "tags": []
          }
        },
        {
          "output_type": "display_data",
          "data": {
            "text/html": [
              "Ridge Regression, with alpha=100000"
            ],
            "text/plain": [
              "<IPython.core.display.HTML object>"
            ]
          },
          "metadata": {
            "tags": []
          }
        },
        {
          "output_type": "display_data",
          "data": {
            "text/html": [
              "Test Mean Absolute Error: $390,190"
            ],
            "text/plain": [
              "<IPython.core.display.HTML object>"
            ]
          },
          "metadata": {
            "tags": []
          }
        },
        {
          "output_type": "display_data",
          "data": {
            "image/png": "[encoded data removed]",
            "text/plain": [
              "<Figure size 1152x576 with 1 Axes>"
            ]
          },
          "metadata": {
            "tags": []
          }
        },
        {
          "output_type": "display_data",
          "data": {
            "text/html": [
              "Ridge Regression, with alpha=1000000"
            ],
            "text/plain": [
              "<IPython.core.display.HTML object>"
            ]
          },
          "metadata": {
            "tags": []
          }
        },
        {
          "output_type": "display_data",
          "data": {
            "text/html": [
              "Test Mean Absolute Error: $393,031"
            ],
            "text/plain": [
              "<IPython.core.display.HTML object>"
            ]
          },
          "metadata": {
            "tags": []
          }
        },
        {
          "output_type": "display_data",
          "data": {
            "image/png": "[encoded data removed]",
            "text/plain": [
              "<Figure size 1152x576 with 1 Axes>"
            ]
          },
          "metadata": {
            "tags": []
          }
        }
      ]
    },
    {
      "cell_type": "code",
      "metadata": {
        "id": "mFStnphkBpqz",
        "colab_type": "code",
        "colab": {
          "base_uri": "https://localhost:8080/",
          "height": 1000
        },
        "outputId": "30d51743-b1a0-446b-8ba0-bb53fdd2edf0"
      },
      "source": [
        "from sklearn.metrics import mean_squared_error\n",
        "\n",
        "alphas = []\n",
        "mses = []\n",
        "\n",
        "for alpha in range(0, 200, 1):\n",
        "    ridge_reg_split = Ridge(alpha=alpha).fit(X_train, y_train)\n",
        "    mse = mean_squared_error(y_test, ridge_reg_split.predict(X_test))\n",
        "    print(alpha, mse)\n",
        "    alphas.append(alpha)\n",
        "    mses.append(mse)"
      ],
      "execution_count": 55,
      "outputs": [
        {
          "output_type": "stream",
          "text": [
            "0 8.05666864244033e+33\n",
            "1 209858727405.11234\n",
            "2 207433570420.53983\n",
            "3 205323172317.1064\n",
            "4 203539101299.3377\n",
            "5 202028850497.99567\n",
            "6 200742422676.524\n",
            "7 199639005507.86307\n",
            "8 198686200907.62506\n",
            "9 197858332392.44516\n",
            "10 197134930554.64886\n",
            "11 196499544093.87405\n",
            "12 195938837468.58734\n",
            "13 195441910395.9833\n",
            "14 194999782844.92252\n",
            "15 194605002403.2216\n",
            "16 194251342315.3844\n",
            "17 193933567137.9117\n",
            "18 193647249243.27106\n",
            "19 193388623907.6233\n",
            "20 193154473941.77777\n",
            "21 192942037143.2999\n",
            "22 192748931526.53677\n",
            "23 192573094513.12112\n",
            "24 192412733168.36093\n",
            "25 192266283239.79443\n",
            "26 192132375257.01276\n",
            "27 192009806331.88977\n",
            "28 191897516587.91202\n",
            "29 191794569369.60797\n",
            "30 191700134555.005\n",
            "31 191613474427.94077\n",
            "32 191533931672.00903\n",
            "33 191460919130.72256\n",
            "34 191393911044.16562\n",
            "35 191332435524.83868\n",
            "36 191276068077.45273\n",
            "37 191224426001.3428\n",
            "38 191177163541.64636\n",
            "39 191133967677.75693\n",
            "40 191094554455.84406\n",
            "41 191058665787.24188\n",
            "42 191026066646.8775\n",
            "43 190996542616.14505\n",
            "44 190969897723.12888\n",
            "45 190945952540.16257\n",
            "46 190924542504.62592\n",
            "47 190905516433.8518\n",
            "48 190888735209.18793\n",
            "49 190874070607.78442\n",
            "50 190861404263.6592\n",
            "51 190850626742.12372\n",
            "52 190841636713.80252\n",
            "53 190834340216.3166\n",
            "54 190828649993.26886\n",
            "55 190824484901.5134\n",
            "56 190821769378.8474\n",
            "57 190820432965.25525\n",
            "58 190820409871.6935\n",
            "59 190821638591.1455\n",
            "60 190824061547.3167\n",
            "61 190827624776.89627\n",
            "62 190832277641.79767\n",
            "63 190837972568.2096\n",
            "64 190844664809.65692\n",
            "65 190852312231.59442\n",
            "66 190860875115.33337\n",
            "67 190870315979.35257\n",
            "68 190880599416.2565\n",
            "69 190891691943.83875\n",
            "70 190903561868.8725\n",
            "71 190916179162.40057\n",
            "72 190929515345.42572\n",
            "73 190943543384.0196\n",
            "74 190958237592.97003\n",
            "75 190973573547.17703\n",
            "76 190989528000.0875\n",
            "77 191006078808.53366\n",
            "78 191023204863.39914\n",
            "79 191040886025.59778\n",
            "80 191059103066.8981\n",
            "81 191077837615.17282\n",
            "82 191097072103.69342\n",
            "83 191116789724.1257\n",
            "84 191136974382.91403\n",
            "85 191157610660.7733\n",
            "86 191178683775.03033\n",
            "87 191200179544.58438\n",
            "88 191222084357.2731\n",
            "89 191244385139.4527\n",
            "90 191267069327.61667\n",
            "91 191290124841.893\n",
            "92 191313540061.27524\n",
            "93 191337303800.4524\n",
            "94 191361405288.118\n",
            "95 191385834146.64615\n",
            "96 191410580373.03238\n",
            "97 191435634321.00714\n",
            "98 191460986684.2355\n",
            "99 191486628480.52466\n",
            "100 191512551036.96783\n",
            "101 191538745975.95752\n",
            "102 191565205202.00757\n",
            "103 191591920889.32825\n",
            "104 191618885470.10208\n",
            "105 191646091623.4133\n",
            "106 191673532264.78693\n",
            "107 191701200536.29657\n",
            "108 191729089797.20404\n",
            "109 191757193615.0958\n",
            "110 191785505757.4841\n",
            "111 191814020183.84357\n",
            "112 191842731038.05493\n",
            "113 191871632641.23215\n",
            "114 191900719484.90652\n",
            "115 191929986224.54892\n",
            "116 191959427673.40717\n",
            "117 191989038796.64114\n",
            "118 192018814705.73755\n",
            "119 192048750653.18787\n",
            "120 192078842027.4141\n",
            "121 192109084347.92834\n",
            "122 192139473260.71262\n",
            "123 192170004533.80676\n",
            "124 192200674053.0926\n",
            "125 192231477818.26367\n",
            "126 192262411938.9707\n",
            "127 192293472631.13226\n",
            "128 192324656213.40347\n",
            "129 192355959103.79285\n",
            "130 192387377816.42017\n",
            "131 192418908958.40802\n",
            "132 192450549226.90088\n",
            "133 192482295406.2032\n",
            "134 192514144365.03317\n",
            "135 192546093053.88437\n",
            "136 192578138502.4909\n",
            "137 192610277817.39105\n",
            "138 192642508179.5839\n",
            "139 192674826842.27567\n",
            "140 192707231128.7105\n",
            "141 192739718430.0822\n",
            "142 192772286203.5232\n",
            "143 192804931970.16693\n",
            "144 192837653313.28073\n",
            "145 192870447876.46576\n",
            "146 192903313361.9206\n",
            "147 192936247528.7668\n",
            "148 192969248191.43268\n",
            "149 193002313218.0929\n",
            "150 193035440529.16226\n",
            "151 193068628095.8405\n",
            "152 193101873938.70645\n",
            "153 193135176126.3591\n",
            "154 193168532774.1044\n",
            "155 193201942042.68488\n",
            "156 193235402137.05087\n",
            "157 193268911305.17233\n",
            "158 193302467836.88818\n",
            "159 193336070062.79303\n",
            "160 193369716353.15872\n",
            "161 193403405116.8907\n",
            "162 193437134800.51602\n",
            "163 193470903887.20398\n",
            "164 193504710895.81595\n",
            "165 193538554379.98505\n",
            "166 193572432927.22324\n",
            "167 193606345158.0563\n",
            "168 193640289725.18362\n",
            "169 193674265312.6644\n",
            "170 193708270635.12668\n",
            "171 193742304437.0009\n",
            "172 193776365491.7748\n",
            "173 193810452601.27103\n",
            "174 193844564594.94482\n",
            "175 193878700329.20233\n",
            "176 193912858686.7386\n",
            "177 193947038575.8938\n",
            "178 193981238930.028\n",
            "179 194015458706.9141\n",
            "180 194049696888.14624\n",
            "181 194083952478.56595\n",
            "182 194118224505.70425\n",
            "183 194152512019.238\n",
            "184 194186814090.46194\n",
            "185 194221129811.77518\n",
            "186 194255458296.18115\n",
            "187 194289798676.80106\n",
            "188 194324150106.401\n",
            "189 194358511756.93094\n",
            "190 194392882819.07654\n",
            "191 194427262501.8222\n",
            "192 194461650032.02625\n",
            "193 194496044654.007\n",
            "194 194530445629.13953\n",
            "195 194564852235.46274\n",
            "196 194599263767.29733\n",
            "197 194633679534.8725\n",
            "198 194668098863.96335\n",
            "199 194702521095.53674\n"
          ],
          "name": "stdout"
        }
      ]
    },
    {
      "cell_type": "code",
      "metadata": {
        "id": "btK0BH5gHUOW",
        "colab_type": "code",
        "colab": {}
      },
      "source": [
        "alphas = alphas[1:]\n",
        "mses = mses[1:]"
      ],
      "execution_count": 0,
      "outputs": []
    },
    {
      "cell_type": "code",
      "metadata": {
        "id": "bhRff3l7CfAd",
        "colab_type": "code",
        "colab": {
          "base_uri": "https://localhost:8080/",
          "height": 275
        },
        "outputId": "d9e0e898-feb4-405d-b6ee-5dbb2ff08a5e"
      },
      "source": [
        "%matplotlib inline\n",
        "import numpy as np\n",
        "import matplotlib.pyplot as plt\n",
        "plt.scatter(alphas, mses);"
      ],
      "execution_count": 62,
      "outputs": [
        {
          "output_type": "display_data",
          "data": {
            "image/png": "[encoded data removed]",
            "text/plain": [
              "<Figure size 432x288 with 1 Axes>"
            ]
          },
          "metadata": {
            "tags": []
          }
        }
      ]
    },
    {
      "cell_type": "code",
      "metadata": {
        "id": "HC88f4Y7DVle",
        "colab_type": "code",
        "colab": {}
      },
      "source": [
        ""
      ],
      "execution_count": 0,
      "outputs": []
    }
  ]
}